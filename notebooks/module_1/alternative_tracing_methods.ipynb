{
 "cells": [
  {
   "cell_type": "markdown",
   "metadata": {},
   "source": [
    "# Alternative Tracing Methods"
   ]
  },
  {
   "cell_type": "markdown",
   "metadata": {},
   "source": [
    "![AWTT](../../images/alternative_ways_to_trace_0.png)"
   ]
  },
  {
   "cell_type": "markdown",
   "metadata": {},
   "source": [
    "So far in this module, we've taken a look at the traceable decorator, and how we can use it to set up tracing.\n",
    "\n",
    "In this lesson, we're going to look at alternative ways in which we can set up tracing, and when you should think about using these different approaches."
   ]
  },
  {
   "cell_type": "markdown",
   "metadata": {},
   "source": [
    "## LangChain and LangGraph"
   ]
  },
  {
   "cell_type": "markdown",
   "metadata": {},
   "source": [
    "If we are using LangChain or LangGraph, all we need to do to set up tracing is to set a few environment variables"
   ]
  },
  {
   "cell_type": "markdown",
   "metadata": {},
   "source": [
    "![AWTT](../../images/alternative_ways_to_trace_1.png)"
   ]
  },
  {
   "cell_type": "code",
   "execution_count": 76,
   "metadata": {},
   "outputs": [],
   "source": [
    "# You can set them inline\n",
    "import os\n",
    "os.environ[\"MISTRAL_API_KEY\"] = \"MISTRAL_API_KEY\"\n",
    "os.environ[\"LANGSMITH_API_KEY\"] = \"LANGSMITH_API_KEY\"\n",
    "os.environ[\"LANGSMITH_TRACING\"] = \"true\"\n",
    "os.environ[\"LANGSMITH_PROJECT\"] = \"langsmith-academy\"  # If you don't set this, traces will go to the Default project"
   ]
  },
  {
   "cell_type": "code",
   "execution_count": 77,
   "metadata": {},
   "outputs": [
    {
     "data": {
      "text/plain": [
       "True"
      ]
     },
     "execution_count": 77,
     "metadata": {},
     "output_type": "execute_result"
    }
   ],
   "source": [
    "# Or you can use a .env file\n",
    "from dotenv import load_dotenv\n",
    "load_dotenv(dotenv_path=\"../../.env\", override=True)"
   ]
  },
  {
   "cell_type": "markdown",
   "metadata": {},
   "source": [
    "Don't worry too much about our graph implementation here, you can learn more about LangGraph through our LangGraph Academy course!"
   ]
  },
  {
   "cell_type": "code",
   "execution_count": 78,
   "metadata": {},
   "outputs": [
    {
     "data": {
      "image/png": "[encoded data removed]",
      "text/plain": [
       "<IPython.core.display.Image object>"
      ]
     },
     "metadata": {},
     "output_type": "display_data"
    }
   ],
   "source": [
    "import nest_asyncio\n",
    "import operator\n",
    "from langchain.schema import Document\n",
    "from langchain_core.messages import HumanMessage, AnyMessage, get_buffer_string\n",
    "from langchain_mistralai.chat_models import ChatMistralAI\n",
    "from langgraph.graph import StateGraph, START, END\n",
    "from IPython.display import Image, display\n",
    "from typing import List\n",
    "from typing_extensions import TypedDict, Annotated\n",
    "from utils import get_vector_db_retriever, RAG_PROMPT\n",
    "\n",
    "nest_asyncio.apply()\n",
    "\n",
    "retriever = get_vector_db_retriever()\n",
    "llm = ChatMistralAI(model=\"mistral-small-latest\", temperature=0)\n",
    "\n",
    "# Define Graph state\n",
    "class GraphState(TypedDict):\n",
    "    question: str\n",
    "    messages: Annotated[List[AnyMessage], operator.add]\n",
    "    documents: List[Document]\n",
    "\n",
    "# Define Nodes\n",
    "def retrieve_documents(state: GraphState):\n",
    "    messages = state.get(\"messages\", [])\n",
    "    question = state[\"question\"]\n",
    "    documents = retriever.invoke(f\"{get_buffer_string(messages)} {question}\")\n",
    "    return {\"documents\": documents}\n",
    "\n",
    "def generate_response(state: GraphState):\n",
    "    question = state[\"question\"]\n",
    "    messages = state[\"messages\"]\n",
    "    documents = state[\"documents\"]\n",
    "    formatted_docs = \"\\n\\n\".join(doc.page_content for doc in documents)\n",
    "    \n",
    "    rag_prompt_formatted = RAG_PROMPT.format(context=formatted_docs, conversation=messages, question=question)\n",
    "    generation = llm.invoke([HumanMessage(content=rag_prompt_formatted)])\n",
    "    return {\"documents\": documents, \"messages\": [HumanMessage(question), generation]}\n",
    "\n",
    "# Define Graph\n",
    "graph_builder = StateGraph(GraphState)\n",
    "graph_builder.add_node(\"retrieve_documents\", retrieve_documents)\n",
    "graph_builder.add_node(\"generate_response\", generate_response)\n",
    "graph_builder.add_edge(START, \"retrieve_documents\")\n",
    "graph_builder.add_edge(\"retrieve_documents\", \"generate_response\")\n",
    "graph_builder.add_edge(\"generate_response\", END)\n",
    "\n",
    "simple_rag_graph = graph_builder.compile()\n",
    "display(Image(simple_rag_graph.get_graph().draw_mermaid_png()))"
   ]
  },
  {
   "cell_type": "markdown",
   "metadata": {},
   "source": [
    "We're setting up a simple graph in LangGraph. If you want to learn more about LangGraph, I would highly recommend taking a look at our LangGraph Academy course.\n",
    "\n",
    "You can also pass in metadata or other fields through an optional config"
   ]
  },
  {
   "cell_type": "code",
   "execution_count": 79,
   "metadata": {},
   "outputs": [
    {
     "data": {
      "text/plain": [
       "{'question': \"How can I use LangSmith to evaluate my ML model's performance?\",\n",
       " 'messages': [HumanMessage(content=\"How can I use LangSmith to evaluate my ML model's performance?\", additional_kwargs={}, response_metadata={}),\n",
       "  AIMessage(content=\"To evaluate your ML model's performance using LangSmith, you can use prebuilt LLM-as-judge evaluators from the open-source openevals package or define custom evaluators. First, install the required dependencies like `langsmith` and `openevals`, then set up environment variables for tracing. Create a dataset with input and reference output pairs to test your model's responses.\", additional_kwargs={}, response_metadata={'token_usage': {'prompt_tokens': 1195, 'total_tokens': 1274, 'completion_tokens': 79}, 'model_name': 'mistral-small-latest', 'model': 'mistral-small-latest', 'finish_reason': 'stop'}, id='run--03ec59f5-ce34-4ccc-8c8e-0df340a9b9c3-0', usage_metadata={'input_tokens': 1195, 'output_tokens': 79, 'total_tokens': 1274})],\n",
       " 'documents': [Document(metadata={'id': '844d25ee-02c6-4f40-8466-952842503968', 'changefreq': 'weekly', 'loc': 'https://docs.smith.langchain.com/evaluation/tutorials/evaluation', 'priority': '0.5', 'source': 'https://docs.smith.langchain.com/evaluation/tutorials/evaluation'}, page_content='For more information on the evaluation workflows LangSmith supports, check out the how-to guides, or see the reference docs for evaluate and its asynchronous aevaluate counterpart.\\nLots to cover, let’s dive in!\\n\\u200bSetup\\nFirst install the required dependencies for this tutorial. We happen to use OpenAI, but LangSmith can be used with any model:\\npipuvCopypip install -U langsmith openai\\n\\nAnd set environment variables to enable LangSmith tracing:\\nCopyexport LANGSMITH_TRACING=\"true\"\\nexport LANGSMITH_API_KEY=\"<Your LangSmith API key>\"\\nexport OPENAI_API_KEY=\"<Your OpenAI API key>\"\\n\\n\\u200bCreate a dataset\\nThe first step when getting ready to test and evaluate your application is to define the datapoints you want to evaluate. There are a few aspects to consider here:\\n\\nWhat should the schema of each datapoint be?\\nHow many datapoints should I gather?\\nHow should I gather those datapoints?'),\n",
       "  Document(metadata={'id': 'b9daa630-9bcb-4520-a734-9dbb3a22b2bb', 'changefreq': 'weekly', 'loc': 'https://docs.smith.langchain.com/evaluation/tutorials', 'priority': '0.5', 'source': 'https://docs.smith.langchain.com/evaluation/tutorials'}, page_content='This quick start guides you through running a simple evaluation to test the correctness of LLM responses with the LangSmith SDK or UI.\\nThis guide uses prebuilt LLM-as-judge evaluators from the open-source openevals package. OpenEvals includes a set of commonly used evaluators and is a great starting point if you’re new to evaluations. If you want greater flexibility in how you evaluate your apps, you can also define completely custom evaluators using your own code.\\n\\u200bLangSmith SDK\\n\\u200b1. Install dependencies\\nPythonTypeScriptCopypip install -U langsmith openevals openai\\n\\nIf you are using yarn as your package manager, you will also need to manually install @langchain/core as a peer dependency of openevals. This is not required for LangSmith evals in general - you may define evaluators using arbitrary custom code.\\n\\u200b2. Create a LangSmith API key\\nTo create an API key, head to the Settings page. Then click + API Key.\\n\\u200b3. Set up environment variables\\nThis guide uses OpenAI, but you can adapt it to use any LLM provider.\\nIf you’re using Anthropic, use the Anthropic wrapper to trace your calls. For other providers, use the traceable wrapper.\\nCopyexport LANGSMITH_TRACING=true\\nexport LANGSMITH_API_KEY=\"<your-langchain-api-key>\"\\nexport OPENAI_API_KEY=\"<your-openai-api-key>\"\\n\\n\\u200b4. Create a dataset\\nNext, define example input and reference output pairs that you’ll use to evaluate your app:\\nPythonTypeScriptCopyfrom langsmith import Client\\nclient = Client()\\n\\n# Programmatically create a dataset in LangSmith\\n# For other dataset creation methods, see:\\n# https://docs.smith.langchain.com/langsmith/manage-datasets-programmatically\\n# https://docs.smith.langchain.com/langsmith/manage-datasets-in-application\\ndataset = client.create_dataset(\\n    dataset_name=\"Sample dataset\", description=\"A sample dataset in LangSmith.\"\\n)'),\n",
       "  Document(metadata={'id': '19b16057-ad62-4da6-9ed5-afb5a5c8afd7', 'changefreq': 'weekly', 'loc': 'https://docs.smith.langchain.com/reference/sdk_reference/langchain_evaluators', 'priority': '0.5', 'source': 'https://docs.smith.langchain.com/reference/sdk_reference/langchain_evaluators'}, page_content=\"Skip to main contentLangSmith docs have moved! Find the LangSmith docs at the new LangChain Docs site.API ReferenceRESTPythonJS/TSSearchRegionUSEUGo to AppGet StartedObservabilityEvaluationPrompt EngineeringDeployment (LangGraph Platform)AdministrationSelf-hostingPricingReferenceCloud architecture and scalabilityAuthz and AuthnAuthentication methodsdata_formatsEvaluationDataset transformationsRegions FAQsdk_referenceLangChain off-the-shelf evaluatorsReferencesdk_referenceLangChain off-the-shelf evaluatorsLangChain off-the-shelf evaluators\\nLangChain's evaluation module provides evaluators you can use as-is for common evaluation scenarios.\\nTo learn how to use these evaluators, please refer to the following guide.\\nnoteWe currently support off-the-shelf evaluators in LangChain for Python only.\\nnoteMost of these evaluators are useful but imperfect! We recommend against blind trust of any single automated metric and to always incorporate them as a part of a holistic testing and evaluation strategy.\\nMany of the LLM-based evaluators return a binary score for a given datapoint, so measuring differences in prompt or model performance are most reliable in aggregate over a larger dataset.\\nThe following table enumerates the off-the-shelf evaluators available in LangSmith, along with their output keys and a simple code sample.\"),\n",
       "  Document(metadata={'id': 'e6e14dd7-a0ed-4415-a6b6-c83c182e3af3', 'changefreq': 'weekly', 'loc': 'https://docs.smith.langchain.com/reference/data_formats/example_data_format', 'priority': '0.5', 'source': 'https://docs.smith.langchain.com/reference/data_formats/example_data_format'}, page_content='LangSmith stores examples in datasets as follows:\\nField NameTypeDescriptionidUUIDUnique identifier for the example.namestringThe name of the example.created_atdatetimeThe time this example was createdmodified_atdatetimeThe last time this example was modifiedinputsobjectA map of inputs for the example.outputsobjectA map or set of outputs generated by the run.dataset_idUUIDThe dataset the example belongs tosource_run_idUUIDIf this example was created from a LangSmith Run, the ID of said runmetadataobjectA map of additional, user or SDK defined information that can be stored on an example.\\nTo learn more about how examples are used in evaluation, read our how-to guide on evaluating LLM applications.Was this page helpful?YesNoSuggest editsAudit evaluator scoresDataset prebuilt JSON schema types⌘IAssistantResponses are generated using AI and may contain mistakes.Docs by LangChain home pagegithubxlinkedinyoutubeResourcesChangelogLangChain AcademyTrust CenterCompanyAboutCareersBloggithubxlinkedinyoutubePowered by Mintlify')]}"
      ]
     },
     "execution_count": 79,
     "metadata": {},
     "output_type": "execute_result"
    }
   ],
   "source": [
    "question = \"How can I use LangSmith to evaluate my ML model's performance?\"\n",
    "simple_rag_graph.invoke({\"question\": question}, config={\"metadata\": {\"custom_experiment\": \"model_eval\", \"user\": \"rakshit\"}})"
   ]
  },
  {
   "cell_type": "markdown",
   "metadata": {},
   "source": [
    "##### Let's take a look in LangSmith!"
   ]
  },
  {
   "cell_type": "markdown",
   "metadata": {},
   "source": [
    "## Tracing Context Manager"
   ]
  },
  {
   "cell_type": "markdown",
   "metadata": {},
   "source": [
    "In Python, you can use the trace context manager to log traces to LangSmith. This is useful in situations where:\n",
    "\n",
    "You want to log traces for a specific block of code.\n",
    "You want control over the inputs, outputs, and other attributes of the trace.\n",
    "It is not feasible to use a decorator or wrapper.\n",
    "Any or all of the above.\n",
    "The context manager integrates seamlessly with the traceable decorator and wrap_openai wrapper, so you can use them together in the same application.\n",
    "\n",
    "You still need to set your `LANGSMITH_API_KEY` and `LANGSMITH_TRACING`"
   ]
  },
  {
   "cell_type": "markdown",
   "metadata": {},
   "source": [
    "![AWTT](../../images/alternative_ways_to_trace_2.png)"
   ]
  },
  {
   "cell_type": "code",
   "execution_count": 80,
   "metadata": {},
   "outputs": [],
   "source": [
    "from langsmith import traceable, trace\n",
    "from langchain_mistralai.chat_models import ChatMistralAI\n",
    "from typing import List\n",
    "import nest_asyncio\n",
    "from utils import get_vector_db_retriever\n",
    "\n",
    "MODEL_PROVIDER = \"mistral\"\n",
    "MODEL_NAME = \"mistral-small-latest\"\n",
    "APP_VERSION = 1.0\n",
    "RAG_SYSTEM_PROMPT = \"\"\"You are an assistant for question-answering tasks. \n",
    "Use the following pieces of retrieved context to answer the latest question in the conversation. \n",
    "If you don't know the answer, just say that you don't know. \n",
    "Use three sentences maximum and keep the answer concise.\n",
    "\"\"\"\n",
    "\n",
    "mistral_client = ChatMistralAI(model=MODEL_NAME)\n",
    "nest_asyncio.apply()\n",
    "retriever = get_vector_db_retriever()\n",
    "\n",
    "\"\"\"\n",
    "retrieve_documents\n",
    "- Returns documents fetched from a vectorstore based on the user's question\n",
    "\"\"\"\n",
    "@traceable\n",
    "def retrieve_documents(question: str):\n",
    "    documents = retriever.invoke(question)\n",
    "    return documents\n",
    "\n",
    "\"\"\"\n",
    "generate_response\n",
    "- Calls `call_mistral` to generate a model response after formatting inputs\n",
    "\"\"\"\n",
    "# TODO: Remove traceable, and use with trace()\n",
    "@traceable\n",
    "def generate_response(question: str, documents):\n",
    "    # NOTE: Our documents came in as a list of objects, but we just want to log a string\n",
    "    formatted_docs = \"\\n\\n\".join(doc.page_content for doc in documents)\n",
    "\n",
    "    # TODO: Use with trace()\n",
    "    # with trace(\n",
    "    #     name=\"Generate Response\",\n",
    "    #     run_type=\"chain\", \n",
    "    #     inputs={\"question\": question, \"formatted_docs\": formatted_docs},\n",
    "    #     metadata={\"foo\": \"bar\"},\n",
    "    # ) as ls_trace:\n",
    "    messages = [\n",
    "        {\n",
    "            \"role\": \"system\",\n",
    "            \"content\": RAG_SYSTEM_PROMPT\n",
    "        },\n",
    "        {\n",
    "            \"role\": \"user\",\n",
    "            \"content\": f\"Context: {formatted_docs} \\n\\n Question: {question}\"\n",
    "        }\n",
    "    ]\n",
    "    response = call_mistral(messages)\n",
    "    # TODO: End your trace and write outputs to LangSmith\n",
    "    # ls_trace.end(outputs={\"output\": response})\n",
    "    return response\n",
    "\n",
    "\"\"\"\n",
    "call_mistral\n",
    "- Returns the chat completion output from Mistral AI\n",
    "\"\"\"\n",
    "@traceable\n",
    "def call_mistral(\n",
    "    messages: List[dict], model: str = MODEL_NAME, temperature: float = 0.0\n",
    ") -> str:\n",
    "    from langchain_core.messages import HumanMessage, SystemMessage\n",
    "    \n",
    "    # Convert dict messages to LangChain message objects\n",
    "    langchain_messages = []\n",
    "    for msg in messages:\n",
    "        if msg[\"role\"] == \"system\":\n",
    "            langchain_messages.append(SystemMessage(content=msg[\"content\"]))\n",
    "        elif msg[\"role\"] == \"user\":\n",
    "            langchain_messages.append(HumanMessage(content=msg[\"content\"]))\n",
    "    \n",
    "    response = mistral_client.invoke(langchain_messages)\n",
    "    return response\n",
    "\n",
    "\"\"\"\n",
    "langsmith_rag\n",
    "- Calls `retrieve_documents` to fetch documents\n",
    "- Calls `generate_response` to generate a response based on the fetched documents\n",
    "- Returns the model response\n",
    "\"\"\"\n",
    "@traceable\n",
    "def langsmith_rag(question: str):\n",
    "    documents = retrieve_documents(question)\n",
    "    response = generate_response(question, documents)\n",
    "    return response.content\n"
   ]
  },
  {
   "cell_type": "code",
   "execution_count": 81,
   "metadata": {},
   "outputs": [
    {
     "name": "stdout",
     "output_type": "stream",
     "text": [
      "AI Response: To debug LLM applications using tracing, you can attach feedback to traces, which can come from users, annotators, or automated evaluators. This feedback is crucial for monitoring and evaluating applications. You can use the `create_feedback()` or `createFeedback()` function to log feedback using the SDK. Additionally, you can attach user feedback to any child run of a trace, not just the root run, which is useful for critiquing specific steps of the LLM application.\n",
      "Question asked: What are the best practices for debugging LLM applications using tracing?\n"
     ]
    }
   ],
   "source": [
    "question = \"What are the best practices for debugging LLM applications using tracing?\"\n",
    "ai_answer = langsmith_rag(question)\n",
    "print(f\"AI Response: {ai_answer}\")\n",
    "print(f\"Question asked: {question}\")"
   ]
  },
  {
   "cell_type": "markdown",
   "metadata": {},
   "source": [
    "## Mistral AI Integration"
   ]
  },
  {
   "cell_type": "markdown",
   "metadata": {},
   "source": [
    "In this section, we demonstrate how to integrate Mistral AI with LangSmith tracing using the @traceable decorator. The decorator works seamlessly with Mistral AI clients and allows you to automatically log traces without requiring function wrapping.\n",
    "\n",
    "You still need to set your `LANGSMITH_API_KEY` and `LANGSMITH_TRACING`"
   ]
  },
  {
   "cell_type": "markdown",
   "metadata": {},
   "source": [
    "![AWTT](../../images/alternative_ways_to_trace_3.png)"
   ]
  },
  {
   "cell_type": "code",
   "execution_count": 82,
   "metadata": {},
   "outputs": [],
   "source": [
    "# Mistral AI Integration with LangSmith Tracing\n",
    "# Using @traceable decorator with Mistral AI ChatMistralAI client\n",
    "from langchain_mistralai.chat_models import ChatMistralAI\n",
    "from typing import List\n",
    "import nest_asyncio\n",
    "from utils import get_vector_db_retriever\n",
    "\n",
    "MODEL_PROVIDER = \"mistral\"\n",
    "MODEL_NAME = \"mistral-small-latest\"\n",
    "APP_VERSION = 1.0\n",
    "RAG_SYSTEM_PROMPT = \"\"\"You are an assistant for question-answering tasks. \n",
    "Use the following pieces of retrieved context to answer the latest question in the conversation. \n",
    "If you don't know the answer, just say that you don't know. \n",
    "Use three sentences maximum and keep the answer concise.\n",
    "\"\"\"\n",
    "\n",
    "# Use Mistral AI client directly\n",
    "mistral_client = ChatMistralAI(model=MODEL_NAME)\n",
    "\n",
    "nest_asyncio.apply()\n",
    "retriever = get_vector_db_retriever()\n",
    "\n",
    "@traceable(run_type=\"chain\")\n",
    "def retrieve_documents(question: str):\n",
    "    return retriever.invoke(question)\n",
    "\n",
    "@traceable(run_type=\"chain\")\n",
    "def generate_response(question: str, documents):\n",
    "    formatted_docs = \"\\n\\n\".join(doc.page_content for doc in documents)\n",
    "    messages = [\n",
    "        {\n",
    "            \"role\": \"system\",\n",
    "            \"content\": RAG_SYSTEM_PROMPT\n",
    "        },\n",
    "        {\n",
    "            \"role\": \"user\",\n",
    "            \"content\": f\"Context: {formatted_docs} \\n\\n Question: {question}\"\n",
    "        }\n",
    "    ]\n",
    "    return call_mistral(messages)\n",
    "\n",
    "@traceable\n",
    "def call_mistral(\n",
    "    messages: List[dict],\n",
    ") -> str:\n",
    "    from langchain_core.messages import HumanMessage, SystemMessage\n",
    "    \n",
    "    # Convert dict messages to LangChain message objects\n",
    "    langchain_messages = []\n",
    "    for msg in messages:\n",
    "        if msg[\"role\"] == \"system\":\n",
    "            langchain_messages.append(SystemMessage(content=msg[\"content\"]))\n",
    "        elif msg[\"role\"] == \"user\":\n",
    "            langchain_messages.append(HumanMessage(content=msg[\"content\"]))\n",
    "    \n",
    "    return mistral_client.invoke(langchain_messages)\n",
    "\n",
    "@traceable(run_type=\"chain\")\n",
    "def langsmith_rag_with_mistral(question: str):\n",
    "    documents = retrieve_documents(question)\n",
    "    response = generate_response(question, documents)\n",
    "    return response.content\n"
   ]
  },
  {
   "cell_type": "code",
   "execution_count": 83,
   "metadata": {},
   "outputs": [
    {
     "name": "stdout",
     "output_type": "stream",
     "text": [
      "Question: How can I optimize costs when using Mistral AI in production?\n",
      "Answer: To optimize costs when using Mistral AI in production, you can start by setting limits on production usage, particularly focusing on the total traces limit based on expected load and potential growth. Additionally, you can cut maximum spend by setting a limit on the maximum high retention traces you want to keep for more than 14 days, such as keeping only 10% of traces.\n",
      "Response time: 1.19 seconds\n"
     ]
    }
   ],
   "source": [
    "import time\n",
    "\n",
    "question = \"How can I optimize costs when using Mistral AI in production?\"\n",
    "start_time = time.time()\n",
    "ai_answer = langsmith_rag_with_mistral(question)\n",
    "end_time = time.time()\n",
    "\n",
    "print(f\"Question: {question}\")\n",
    "print(f\"Answer: {ai_answer}\")\n",
    "print(f\"Response time: {end_time - start_time:.2f} seconds\")"
   ]
  },
  {
   "cell_type": "markdown",
   "metadata": {},
   "source": [
    "The Mistral AI client with @traceable decorator accepts all the same langsmith_extra parameters as other @traceable decorated functions"
   ]
  },
  {
   "cell_type": "code",
   "execution_count": 84,
   "metadata": {},
   "outputs": [
    {
     "name": "stdout",
     "output_type": "stream",
     "text": [
      "Testing multiple queries with Mistral AI:\n",
      "\n",
      "1. Q: What is the weather like today?\n",
      "   A: I can't provide real-time weather updates, but you can check the current weather in your location us...\n",
      "\n",
      "1. Q: What is the weather like today?\n",
      "   A: I can't provide real-time weather updates, but you can check the current weather in your location us...\n",
      "\n",
      "2. Q: Explain quantum computing in simple terms\n",
      "   A: Quantum computing is like a super-powered version of regular computers, but instead of using bits (w...\n",
      "\n",
      "2. Q: Explain quantum computing in simple terms\n",
      "   A: Quantum computing is like a super-powered version of regular computers, but instead of using bits (w...\n",
      "\n",
      "3. Q: How do neural networks learn?\n",
      "   A: Neural networks learn through a process called **training**, which involves adjusting their internal...\n",
      "\n",
      "3. Q: How do neural networks learn?\n",
      "   A: Neural networks learn through a process called **training**, which involves adjusting their internal...\n"
     ]
    }
   ],
   "source": [
    "from langchain_core.messages import HumanMessage\n",
    "\n",
    "# Test multiple custom questions\n",
    "custom_questions = [\n",
    "    \"What is the weather like today?\",\n",
    "    \"Explain quantum computing in simple terms\",\n",
    "    \"How do neural networks learn?\"\n",
    "]\n",
    "\n",
    "print(\"Testing multiple queries with Mistral AI:\")\n",
    "for i, question_text in enumerate(custom_questions, 1):\n",
    "    message = HumanMessage(content=question_text)\n",
    "    response = mistral_client.invoke([message])\n",
    "    print(f\"\\n{i}. Q: {question_text}\")\n",
    "    print(f\"   A: {response.content[:100]}{'...' if len(response.content) > 100 else ''}\")"
   ]
  },
  {
   "cell_type": "markdown",
   "metadata": {
    "jp-MarkdownHeadingCollapsed": true
   },
   "source": [
    "## [Advanced] RunTree"
   ]
  },
  {
   "cell_type": "markdown",
   "metadata": {},
   "source": [
    "Another, more explicit way to log traces to LangSmith is via the RunTree API. This API allows you more control over your tracing - you can manually create runs and children runs to assemble your trace. You still need to set your `LANGSMITH_API_KEY`, but `LANGSMITH_TRACING` is not necessary for this method."
   ]
  },
  {
   "cell_type": "markdown",
   "metadata": {},
   "source": [
    "![AWTT](../../images/alternative_ways_to_trace_4.png)"
   ]
  },
  {
   "cell_type": "code",
   "execution_count": 85,
   "metadata": {},
   "outputs": [],
   "source": [
    "import os\n",
    "os.environ[\"MISTRAL_API_KEY\"] = \"\"\n",
    "os.environ[\"LANGSMITH_API_KEY\"] = \"\"\n",
    "os.environ[\"LANGSMITH_PROJECT\"] = \"langsmith-academy\""
   ]
  },
  {
   "cell_type": "code",
   "execution_count": 86,
   "metadata": {},
   "outputs": [
    {
     "data": {
      "text/plain": [
       "True"
      ]
     },
     "execution_count": 86,
     "metadata": {},
     "output_type": "execute_result"
    }
   ],
   "source": [
    "from dotenv import load_dotenv\n",
    "# I have my env variables defined in a .env file\n",
    "load_dotenv(dotenv_path=\"../../.env\", override=True)"
   ]
  },
  {
   "cell_type": "markdown",
   "metadata": {},
   "source": [
    "Let's go ahead and set `LANGSMITH_TRACING` to false, as we are using RunTree to manually create runs in this case."
   ]
  },
  {
   "cell_type": "code",
   "execution_count": 87,
   "metadata": {},
   "outputs": [],
   "source": [
    "# Disable automatic tracing for RunTree demonstration\n",
    "import os\n",
    "os.environ[\"LANGSMITH_TRACING\"] = \"false\""
   ]
  },
  {
   "cell_type": "markdown",
   "metadata": {},
   "source": [
    "We have rewritten our RAG application, except this time we pass a RunTree argument through our function calls, and create child runs at each layer. This gives our RunTree the same hierarchy that we were automatically able to establish with @traceable"
   ]
  },
  {
   "cell_type": "code",
   "execution_count": 88,
   "metadata": {},
   "outputs": [],
   "source": [
    "from langsmith import RunTree\n",
    "from langchain_mistralai.chat_models import ChatMistralAI\n",
    "from langchain_core.messages import HumanMessage, SystemMessage\n",
    "from typing import List\n",
    "import nest_asyncio\n",
    "from utils import get_vector_db_retriever\n",
    "\n",
    "mistral_client = ChatMistralAI(model=\"mistral-small-latest\")\n",
    "nest_asyncio.apply()\n",
    "retriever = get_vector_db_retriever()\n",
    "\n",
    "def retrieve_documents(parent_run: RunTree, question: str):\n",
    "    # Create a child run\n",
    "    child_run = parent_run.create_child(\n",
    "        name=\"Retrieve Documents\",\n",
    "        run_type=\"retriever\",\n",
    "        inputs={\"question\": question},\n",
    "    )\n",
    "    documents = retriever.invoke(question)\n",
    "    # Post the output of our child run\n",
    "    child_run.end(outputs={\"documents\": documents})\n",
    "    child_run.post()\n",
    "    return documents\n",
    "\n",
    "def generate_response(parent_run: RunTree, question: str, documents):\n",
    "    formatted_docs = \"\\n\\n\".join(doc.page_content for doc in documents)\n",
    "    rag_system_prompt = \"\"\"You are an assistant for question-answering tasks. \n",
    "    Use the following pieces of retrieved context to answer the latest question in the conversation. \n",
    "    If you don't know the answer, just say that you don't know. \n",
    "    Use three sentences maximum and keep the answer concise.\n",
    "    \"\"\"\n",
    "    # Create a child run\n",
    "    child_run = parent_run.create_child(\n",
    "        name=\"Generate Response\",\n",
    "        run_type=\"chain\",\n",
    "        inputs={\"question\": question, \"documents\": documents},\n",
    "    )\n",
    "    messages = [\n",
    "        {\n",
    "            \"role\": \"system\",\n",
    "            \"content\": rag_system_prompt\n",
    "        },\n",
    "        {\n",
    "            \"role\": \"user\",\n",
    "            \"content\": f\"Context: {formatted_docs} \\n\\n Question: {question}\"\n",
    "        }\n",
    "    ]\n",
    "    mistral_response = call_mistral(child_run, messages)\n",
    "    # Post the output of our child run\n",
    "    child_run.end(outputs={\"mistral_response\": mistral_response})\n",
    "    child_run.post()\n",
    "    return mistral_response\n",
    "\n",
    "def call_mistral(\n",
    "    parent_run: RunTree, messages: List[dict], model: str = \"mistral-small-latest\", temperature: float = 0.0\n",
    ") -> str:\n",
    "    # Create a child run\n",
    "    child_run = parent_run.create_child(\n",
    "        name=\"Mistral AI Call\",\n",
    "        run_type=\"llm\",\n",
    "        inputs={\"messages\": messages},\n",
    "    )\n",
    "    \n",
    "    # Convert dict messages to LangChain message objects\n",
    "    langchain_messages = []\n",
    "    for msg in messages:\n",
    "        if msg[\"role\"] == \"system\":\n",
    "            langchain_messages.append(SystemMessage(content=msg[\"content\"]))\n",
    "        elif msg[\"role\"] == \"user\":\n",
    "            langchain_messages.append(HumanMessage(content=msg[\"content\"]))\n",
    "    \n",
    "    mistral_response = mistral_client.invoke(langchain_messages)\n",
    "    # Post the output of our child run\n",
    "    child_run.end(outputs={\"mistral_response\": mistral_response})\n",
    "    child_run.post()\n",
    "    return mistral_response\n",
    "\n",
    "def langsmith_rag(question: str):\n",
    "    # Create a root RunTree\n",
    "    root_run_tree = RunTree(\n",
    "        name=\"Chat Pipeline\",\n",
    "        run_type=\"chain\",\n",
    "        inputs={\"question\": question}\n",
    "    )\n",
    "\n",
    "    # Pass our RunTree into the nested function calls\n",
    "    documents = retrieve_documents(root_run_tree, question)\n",
    "    response = generate_response(root_run_tree, question, documents)\n",
    "    output = response.content\n",
    "\n",
    "    # Post our final output\n",
    "    root_run_tree.end(outputs={\"generation\": output})\n",
    "    root_run_tree.post()\n",
    "    return output\n",
    "\n"
   ]
  },
  {
   "cell_type": "code",
   "execution_count": 89,
   "metadata": {},
   "outputs": [
    {
     "name": "stdout",
     "output_type": "stream",
     "text": [
      "You can convert LangChain’s RunnableConfig to an equivalent RunTree object using `RunTree.fromRunnableConfig`. Alternatively, you can pass the RunnableConfig as the first argument of the traceable-wrapped function.\n",
      "Custom RunTree Demo - Question: What are the key components of a scalable RAG system architecture?\n",
      "Answer: The key components of a scalable RAG system architecture include:\n",
      "\n",
      "- **ClickHouse** for data warehousing, with recommendations for resource allocation and replication.\n",
      "- **Redis** for caching, with a minimum size of 200 GB for optimal performance.\n",
      "- **Autoscaling** capabilities for various services like platformBackend, queue, and backend to handle varying loads efficiently.\n",
      "\n",
      "Second question: Explain the difference between vector databases and traditional databases\n",
      "Answer: The key components of a scalable RAG system architecture include:\n",
      "\n",
      "- **ClickHouse** for data warehousing, with recommendations for resource allocation and replication.\n",
      "- **Redis** for caching, with a minimum size of 200 GB for optimal performance.\n",
      "- **Autoscaling** capabilities for various services like platformBackend, queue, and backend to handle varying loads efficiently.\n",
      "\n",
      "Second question: Explain the difference between vector databases and traditional databases\n",
      "Answer: Vector databases store data as vectors, which are mathematical representations of information, allowing for similarity searches and machine learning tasks. Traditional databases store data in tables with rows and columns, optimized for structured query operations. Vector databases are particularly useful for tasks like recommendation systems and image recognition, while traditional databases are better suited for transactional and analytical processing.\n",
      "Answer: Vector databases store data as vectors, which are mathematical representations of information, allowing for similarity searches and machine learning tasks. Traditional databases store data in tables with rows and columns, optimized for structured query operations. Vector databases are particularly useful for tasks like recommendation systems and image recognition, while traditional databases are better suited for transactional and analytical processing.\n"
     ]
    }
   ],
   "source": [
    "question = \"How can I trace with RunTree?\"\n",
    "ai_answer = langsmith_rag(question)\n",
    "print(ai_answer)\n",
    "\n",
    "question = \"What are the key components of a scalable RAG system architecture?\"\n",
    "print(f\"Custom RunTree Demo - Question: {question}\")\n",
    "ai_answer = langsmith_rag(question)\n",
    "print(f\"Answer: {ai_answer}\")\n",
    "\n",
    "# Additional custom example with error handling\n",
    "try:\n",
    "    question2 = \"Explain the difference between vector databases and traditional databases\"\n",
    "    print(f\"\\nSecond question: {question2}\")\n",
    "    ai_answer2 = langsmith_rag(question2)\n",
    "    print(f\"Answer: {ai_answer2}\")\n",
    "except Exception as e:\n",
    "    print(f\"Error occurred: {e}\")"
   ]
  },
  {
   "cell_type": "markdown",
   "metadata": {},
   "source": [
    "## Summary\n",
    "\n",
    "This notebook was such a deep dive into the different ways you can set up tracing - it's like having multiple tools in your toolbox for different situations! I learned that there's no one-size-fits-all approach to tracing, and each method has its sweet spot depending on what you're building.\n",
    "\n",
    "**What I Discovered and Changed:**\n",
    "- Migrated everything from OpenAI to Mistral AI across all the different tracing methods - @traceable, LangGraph, context managers, and RunTree\n",
    "- Updated all the API keys (MISTRAL_API_KEY replaced OPENAI_API_KEY everywhere) and made sure the environment setup worked smoothly\n",
    "- Played around with LangGraph integration and saw how it automatically traces everything when you just set environment variables - that's pretty magical!\n",
    "- Explored the context manager approach with `with trace()` which gives you super fine-grained control over what gets logged and when\n",
    "- Dove deep into the RunTree API and manually created parent-child run relationships - it's like being the architect of your own trace structure\n",
    "- Added custom experiments showing how Mistral AI works seamlessly with all these different tracing approaches\n",
    "- Tested multiple scenarios including error handling and performance monitoring across different tracing methods\n",
    "\n",
    "I also realized that each tracing method serves different needs. LangGraph is perfect when you want zero-hassle automatic tracing, @traceable is great for most everyday use cases, context managers give you surgical precision, and RunTree lets you build exactly the trace structure you want. Plus, switching from OpenAI to Mistral AI was smooth as butter across all methods - the tracing infrastructure just doesn't care which AI provider you use, which is incredibly powerful for flexibility!"
   ]
  },
  {
   "cell_type": "markdown",
   "metadata": {},
   "source": []
  }
 ],
 "metadata": {
  "kernelspec": {
   "display_name": "mat496",
   "language": "python",
   "name": "python3"
  },
  "language_info": {
   "codemirror_mode": {
    "name": "ipython",
    "version": 3
   },
   "file_extension": ".py",
   "mimetype": "text/x-python",
   "name": "python",
   "nbconvert_exporter": "python",
   "pygments_lexer": "ipython3",
   "version": "3.13.3"
  }
 },
 "nbformat": 4,
 "nbformat_minor": 4
}
