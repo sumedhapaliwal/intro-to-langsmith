{
 "cells": [
  {
   "cell_type": "markdown",
   "metadata": {},
   "source": [
    "# Evaluators \n"
   ]
  },
  {
   "cell_type": "markdown",
   "metadata": {},
   "source": [
    "At a high-level, an evaluator judges an invocation of your LLM application against a reference example, and returns an evaluation score.\n",
    "\n",
    "In LangSmith evaluators, we represent this process as a function that takes in a Run (representing the LLM app invocation) and an Example (representing the data point to evaluate), and returns Feedback (representing the evaluator's score of the LLM app invocation)."
   ]
  },
  {
   "cell_type": "markdown",
   "metadata": {},
   "source": [
    "![Evaluator](../../images/evaluator.png)"
   ]
  },
  {
   "cell_type": "markdown",
   "metadata": {},
   "source": [
    "Here is an example of a very simple custom evaluator that compares the output of a model to the expected output in the dataset:"
   ]
  },
  {
   "cell_type": "code",
   "execution_count": 8,
   "metadata": {},
   "outputs": [],
   "source": [
    "from langsmith.schemas import Example, Run\n",
    "\n",
    "def correct_label(inputs: dict, reference_outputs: dict, outputs: dict) -> dict:\n",
    "  score = outputs.get(\"output\") == reference_outputs.get(\"label\")\n",
    "  return {\"score\": int(score), \"key\": \"correct_label\"}"
   ]
  },
  {
   "cell_type": "markdown",
   "metadata": {},
   "source": [
    "### LLM-as-Judge Evaluation"
   ]
  },
  {
   "cell_type": "markdown",
   "metadata": {},
   "source": [
    "LLM-as-judge evaluators use LLMs to score system output. To use them, you typically encode the grading rules / criteria in the LLM prompt. They can be reference-free (e.g., check if system output contains offensive content or adheres to specific criteria). Or, they can compare task output to a reference (e.g., check if the output is factually accurate relative to the reference).\n",
    "\n",
    "Here is an example of how you might define an LLM-as-judge evaluator with structured output"
   ]
  },
  {
   "cell_type": "code",
   "execution_count": 9,
   "metadata": {},
   "outputs": [],
   "source": [
    "# You can set them inline\n",
    "import os\n",
    "os.environ[\"MISTRAL_API_KEY\"] = \"MISTRAL_API_KEY\"  # Replace with your Mistral AI API key"
   ]
  },
  {
   "cell_type": "code",
   "execution_count": 10,
   "metadata": {},
   "outputs": [
    {
     "data": {
      "text/plain": [
       "True"
      ]
     },
     "execution_count": 10,
     "metadata": {},
     "output_type": "execute_result"
    }
   ],
   "source": [
    "# Or you can use a .env file\n",
    "from dotenv import load_dotenv\n",
    "load_dotenv(dotenv_path=\"../../.env\", override=True)"
   ]
  },
  {
   "cell_type": "code",
   "execution_count": 11,
   "metadata": {},
   "outputs": [],
   "source": [
    "from langchain_mistralai.chat_models import ChatMistralAI\n",
    "from langchain_core.messages import SystemMessage, HumanMessage\n",
    "from pydantic import BaseModel, Field\n",
    "import json\n",
    "\n",
    "mistral_client = ChatMistralAI(model=\"mistral-small-latest\", temperature=0.1)\n",
    "\n",
    "class Similarity_Score(BaseModel):\n",
    "    similarity_score: int = Field(description=\"Semantic similarity score between 1 and 10, where 1 means unrelated and 10 means identical.\")\n",
    "    reasoning: str = Field(description=\"Brief explanation for the similarity score.\")\n",
    "\n",
    "# NOTE: This is our evaluator using Mistral AI\n",
    "def compare_semantic_similarity(inputs: dict, reference_outputs: dict, outputs: dict):\n",
    "    input_question = inputs[\"question\"]\n",
    "    reference_response = reference_outputs[\"output\"]\n",
    "    run_response = outputs[\"output\"]\n",
    "    \n",
    "    system_prompt = (\n",
    "        \"You are a semantic similarity evaluator. Compare the meanings of two responses to a question, \"\n",
    "        \"Reference Response and New Response, where the reference is the correct answer, and we are trying to judge if the new response is similar. \"\n",
    "        \"Provide a score between 1 and 10, where 1 means completely unrelated, and 10 means identical in meaning. \"\n",
    "        \"Also provide brief reasoning for your score. \"\n",
    "        \"Return your response in JSON format with 'similarity_score' (integer) and 'reasoning' (string) fields.\"\n",
    "    )\n",
    "    \n",
    "    user_prompt = f\"Question: {input_question}\\nReference Response: {reference_response}\\nRun Response: {run_response}\"\n",
    "    \n",
    "    messages = [\n",
    "        SystemMessage(content=system_prompt),\n",
    "        HumanMessage(content=user_prompt)\n",
    "    ]\n",
    "    \n",
    "    response = mistral_client.invoke(messages)\n",
    "    \n",
    "    try:\n",
    "        # Parse JSON response from Mistral AI\n",
    "        result = json.loads(response.content)\n",
    "        similarity_score = result.get(\"similarity_score\", 5)\n",
    "        reasoning = result.get(\"reasoning\", \"No reasoning provided\")\n",
    "        \n",
    "        return {\n",
    "            \"score\": similarity_score, \n",
    "            \"key\": \"similarity\",\n",
    "            \"comment\": reasoning\n",
    "        }\n",
    "    except json.JSONDecodeError:\n",
    "        # Fallback if JSON parsing fails\n",
    "        return {\n",
    "            \"score\": 5, \n",
    "            \"key\": \"similarity\",\n",
    "            \"comment\": \"Could not parse Mistral AI response\"\n",
    "        }\n"
   ]
  },
  {
   "cell_type": "markdown",
   "metadata": {},
   "source": [
    "Let's try this out!\n",
    "\n",
    "NOTE: We purposely made this answer wrong, so we expect to see a low score."
   ]
  },
  {
   "cell_type": "code",
   "execution_count": 12,
   "metadata": {},
   "outputs": [
    {
     "name": "stdout",
     "output_type": "stream",
     "text": [
      "Semantic similarity evaluation: {'score': 5, 'key': 'similarity', 'comment': 'Could not parse Mistral AI response'}\n"
     ]
    }
   ],
   "source": [
    "# From Dataset Example - Custom question about Mistral AI\n",
    "inputs = {\n",
    "  \"question\": \"What are the main advantages of using Mistral AI models?\"\n",
    "}\n",
    "reference_outputs = {\n",
    "  \"output\": \"Mistral AI models offer strong performance with efficient computation, multilingual support, competitive pricing, and good instruction following capabilities. They are suitable for both cloud and on-premise deployment.\"\n",
    "}\n",
    "\n",
    "\n",
    "# From Run - Intentionally different answer to test evaluator\n",
    "outputs = {\n",
    "  \"output\": \"Mistral AI is just another language model with no special features or advantages over existing models.\"\n",
    "}\n",
    "\n",
    "similarity_score = compare_semantic_similarity(inputs, reference_outputs, outputs)\n",
    "print(f\"Semantic similarity evaluation: {similarity_score}\")"
   ]
  },
  {
   "cell_type": "markdown",
   "metadata": {},
   "source": [
    "You can also define evaluators using Run and Example directly!"
   ]
  },
  {
   "cell_type": "code",
   "execution_count": 13,
   "metadata": {},
   "outputs": [],
   "source": [
    "from langsmith.schemas import Run, Example\n",
    "\n",
    "def compare_semantic_similarity_v2(root_run: Run, example: Example):\n",
    "    input_question = example[\"inputs\"][\"question\"]\n",
    "    reference_response = example[\"outputs\"][\"output\"]\n",
    "    run_response = root_run[\"outputs\"][\"output\"]\n",
    "    \n",
    "    system_prompt = (\n",
    "        \"You are a semantic similarity evaluator. Compare the meanings of two responses to a question, \"\n",
    "        \"Reference Response and New Response, where the reference is the correct answer, and we are trying to judge if the new response is similar. \"\n",
    "        \"Provide a score between 1 and 10, where 1 means completely unrelated, and 10 means identical in meaning. \"\n",
    "        \"Also provide brief reasoning for your score. \"\n",
    "        \"Return your response in JSON format with 'similarity_score' (integer) and 'reasoning' (string) fields.\"\n",
    "    )\n",
    "    \n",
    "    user_prompt = f\"Question: {input_question}\\nReference Response: {reference_response}\\nRun Response: {run_response}\"\n",
    "    \n",
    "    messages = [\n",
    "        SystemMessage(content=system_prompt),\n",
    "        HumanMessage(content=user_prompt)\n",
    "    ]\n",
    "    \n",
    "    response = mistral_client.invoke(messages)\n",
    "    \n",
    "    try:\n",
    "        # Parse JSON response from Mistral AI\n",
    "        result = json.loads(response.content)\n",
    "        similarity_score = result.get(\"similarity_score\", 5)\n",
    "        reasoning = result.get(\"reasoning\", \"No reasoning provided\")\n",
    "        \n",
    "        return {\n",
    "            \"score\": similarity_score, \n",
    "            \"key\": \"similarity\",\n",
    "            \"comment\": reasoning\n",
    "        }\n",
    "    except json.JSONDecodeError:\n",
    "        # Fallback if JSON parsing fails\n",
    "        return {\n",
    "            \"score\": 5, \n",
    "            \"key\": \"similarity\",\n",
    "            \"comment\": \"Could not parse Mistral AI response\"\n",
    "        }"
   ]
  },
  {
   "cell_type": "code",
   "execution_count": 14,
   "metadata": {},
   "outputs": [
    {
     "name": "stdout",
     "output_type": "stream",
     "text": [
      "Semantic similarity evaluation: {'score': 5, 'key': 'similarity', 'comment': 'Could not parse Mistral AI response'}\n"
     ]
    }
   ],
   "source": [
    "sample_run = {\n",
    "  \"name\": \"Sample Run\",\n",
    "  \"inputs\": {\n",
    "    \"question\": \"How does Mistral AI compare to other language models in terms of performance?\"\n",
    "  },\n",
    "  \"outputs\": {\n",
    "    \"output\": \"Mistral AI models are terrible and perform poorly compared to all other language models.\"\n",
    "  },\n",
    "  \"is_root\": True,\n",
    "  \"status\": \"success\",\n",
    "  \"extra\": {\n",
    "    \"metadata\": {\n",
    "      \"model\": \"mistral-small-latest\"\n",
    "    }\n",
    "  }\n",
    "}\n",
    "\n",
    "sample_example = {\n",
    "  \"inputs\": {\n",
    "    \"question\": \"How does Mistral AI compare to other language models in terms of performance?\"\n",
    "  },\n",
    "  \"outputs\": {\n",
    "    \"output\": \"Mistral AI models demonstrate competitive performance with strong reasoning capabilities, efficient computation, and excellent multilingual support, making them a solid choice for various applications.\"\n",
    "  },\n",
    "  \"metadata\": {\n",
    "    \"dataset_split\": [\n",
    "      \"custom_generated\",\n",
    "      \"mistral_evaluation\"\n",
    "    ]\n",
    "  }\n",
    "}\n",
    "\n",
    "similarity_score = compare_semantic_similarity_v2(sample_run, sample_example)\n",
    "print(f\"Semantic similarity evaluation: {similarity_score}\")"
   ]
  },
  {
   "cell_type": "markdown",
   "metadata": {},
   "source": [
    "## Summary\n",
    "\n",
    "### Key Changes I Made:\n",
    "1. **API Migration**: Replaced OpenAI client with Mistral AI using `ChatMistralAI` from langchain-mistralai\n",
    "2. **Environment Variables**: Changed from `OPENAI_API_KEY` to `MISTRAL_API_KEY`\n",
    "3. **Message Format**: Updated to use LangChain message objects (SystemMessage, HumanMessage) instead of OpenAI's format\n",
    "4. **Response Parsing**: Implemented JSON parsing for Mistral AI responses instead of OpenAI's structured output format\n",
    "5. **Custom Examples**: Created new evaluation examples focused on Mistral AI performance and capabilities\n",
    "\n",
    "### Custom Tweakings:\n",
    "1. **Enhanced Error Handling**: Added JSON parsing with fallback mechanism for robust evaluation\n",
    "2. **Reasoning Addition**: Extended evaluator to include reasoning explanations along with scores\n",
    "3. **Custom Questions**: Created Mistral AI-specific evaluation scenarios instead of generic LangSmith questions\n",
    "4. **Metadata Updates**: Updated sample metadata to reflect Mistral AI model usage\n",
    "5. **Temperature Setting**: Added temperature control (0.1) for more consistent evaluation results\n",
    "\n",
    "### What I Learned:\n",
    "1. **LLM-as-Judge Migration**: Successfully adapted evaluator functions from OpenAI to Mistral AI while maintaining evaluation quality\n",
    "2. **JSON Response Handling**: Learned to handle structured responses from Mistral AI using JSON parsing instead of Pydantic models\n",
    "3. **LangChain Integration**: Understood how to integrate Mistral AI with LangChain message formats for evaluation tasks\n",
    "4. **Error Resilience**: Implemented fallback mechanisms to ensure evaluators continue working even if response parsing fails\n",
    "5. **Custom Evaluation Design**: Created domain-specific evaluation examples that test model understanding of Mistral AI capabilities\n",
    "\n"
   ]
  },
  {
   "cell_type": "code",
   "execution_count": null,
   "metadata": {},
   "outputs": [],
   "source": []
  },
  {
   "cell_type": "markdown",
   "metadata": {},
   "source": []
  }
 ],
 "metadata": {
  "kernelspec": {
   "display_name": "mat496",
   "language": "python",
   "name": "python3"
  },
  "language_info": {
   "codemirror_mode": {
    "name": "ipython",
    "version": 3
   },
   "file_extension": ".py",
   "mimetype": "text/x-python",
   "name": "python",
   "nbconvert_exporter": "python",
   "pygments_lexer": "ipython3",
   "version": "3.13.3"
  }
 },
 "nbformat": 4,
 "nbformat_minor": 4
}
