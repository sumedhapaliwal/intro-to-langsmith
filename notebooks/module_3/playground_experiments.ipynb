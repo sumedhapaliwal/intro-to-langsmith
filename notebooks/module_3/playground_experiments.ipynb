{
 "cells": [
  {
   "cell_type": "markdown",
   "metadata": {},
   "source": [
    "# Run Experiments in Playground"
   ]
  },
  {
   "cell_type": "markdown",
   "metadata": {},
   "source": [
    "### Setup"
   ]
  },
  {
   "cell_type": "code",
   "execution_count": 2,
   "metadata": {},
   "outputs": [],
   "source": [
    "# You can set them inline\n",
    "import os\n",
    "os.environ[\"LANGSMITH_API_KEY\"] = \"\""
   ]
  },
  {
   "cell_type": "code",
   "execution_count": 3,
   "metadata": {},
   "outputs": [
    {
     "data": {
      "text/plain": [
       "True"
      ]
     },
     "execution_count": 3,
     "metadata": {},
     "output_type": "execute_result"
    }
   ],
   "source": [
    "# Or you can use a .env file\n",
    "from dotenv import load_dotenv\n",
    "load_dotenv(dotenv_path=\"../../.env\", override=True)"
   ]
  },
  {
   "cell_type": "markdown",
   "metadata": {},
   "source": [
    "### Create a Dataset"
   ]
  },
  {
   "cell_type": "markdown",
   "metadata": {},
   "source": [
    "Let's create a toy example dataset to run experiments over for a prompt"
   ]
  },
  {
   "cell_type": "code",
   "execution_count": 5,
   "metadata": {},
   "outputs": [
    {
     "data": {
      "text/plain": [
       "{'example_ids': ['0b096840-afd1-40ff-a66a-8edd45e8cce4',\n",
       "  '028015f0-2455-4e51-85f9-d400982d7505',\n",
       "  'ed8eaeeb-58c4-4c49-889e-3d2350397ae7'],\n",
       " 'count': 3}"
      ]
     },
     "execution_count": 5,
     "metadata": {},
     "output_type": "execute_result"
    }
   ],
   "source": [
    "from langsmith import Client\n",
    "\n",
    "example_inputs = [\n",
    "(\"How big is the universe?\", \"The universe is infinitely big\"),\n",
    "(\"Which galaxy are we in?\", \"We live in the Milky Way galaxy\"),\n",
    "(\"What color is the Cat's Eye nebula?\", \"The Cat's Eye nebula is blue and green\"),\n",
    "]\n",
    "\n",
    "client = Client()\n",
    "dataset_name = \"Universe2\"\n",
    "\n",
    "dataset = client.create_dataset(\n",
    "  dataset_name=dataset_name, description=\"Questions about the universe\",\n",
    ")\n",
    "\n",
    "inputs = [{\"question\": input_prompt} for input_prompt, _ in example_inputs]\n",
    "outputs = [{\"output\": output_answer} for _, output_answer in example_inputs]\n",
    "\n",
    "client.create_examples(\n",
    "  inputs=inputs,\n",
    "  outputs=outputs,\n",
    "  dataset_id=dataset.id,\n",
    ")"
   ]
  },
  {
   "cell_type": "markdown",
   "metadata": {},
   "source": [
    "### Test and Verify Dataset Creation"
   ]
  },
  {
   "cell_type": "code",
   "execution_count": 9,
   "metadata": {},
   "outputs": [
    {
     "name": "stdout",
     "output_type": "stream",
     "text": [
      "Dataset created successfully!\n",
      "Dataset ID: 5bc6ffd8-7acc-4145-9fac-d6068ccca76d\n",
      "Dataset Name: Universe2\n",
      "Dataset Description: Questions about the universe\n",
      "Dataset URL: https://smith.langchain.com/datasets/5bc6ffd8-7acc-4145-9fac-d6068ccca76d\n",
      "EXAMPLES IN DATASET:\n",
      "==================================================\n",
      "\n",
      "Example 1:\n",
      "  Question: How big is the universe?\n",
      "  Expected Answer: The universe is infinitely big\n",
      "\n",
      "Example 2:\n",
      "  Question: Which galaxy are we in?\n",
      "  Expected Answer: We live in the Milky Way galaxy\n",
      "\n",
      "Example 3:\n",
      "  Question: What color is the Cat's Eye nebula?\n",
      "  Expected Answer: The Cat's Eye nebula is blue and green\n"
     ]
    }
   ],
   "source": [
    "# Let's verify our dataset was created successfully\n",
    "print(f\"Dataset created successfully!\")\n",
    "print(f\"Dataset ID: {dataset.id}\")\n",
    "print(f\"Dataset Name: {dataset.name}\")\n",
    "print(f\"Dataset Description: {dataset.description}\")\n",
    "print(f\"Dataset URL: https://smith.langchain.com/datasets/{dataset.id}\")\n",
    "\n",
    "# Print the examples we created\n",
    "print(\"EXAMPLES IN DATASET:\")\n",
    "print(\"=\"*50)\n",
    "\n",
    "for i, (input_data, output_data) in enumerate(zip(inputs, outputs), 1):\n",
    "    print(f\"\\nExample {i}:\")\n",
    "    print(f\"  Question: {input_data['question']}\")\n",
    "    print(f\"  Expected Answer: {output_data['output']}\")"
   ]
  }
 ],
 "metadata": {
  "kernelspec": {
   "display_name": "intro-to-langsmith (3.13.7)",
   "language": "python",
   "name": "python3"
  },
  "language_info": {
   "codemirror_mode": {
    "name": "ipython",
    "version": 3
   },
   "file_extension": ".py",
   "mimetype": "text/x-python",
   "name": "python",
   "nbconvert_exporter": "python",
   "pygments_lexer": "ipython3",
   "version": "3.13.7"
  }
 },
 "nbformat": 4,
 "nbformat_minor": 4
}
