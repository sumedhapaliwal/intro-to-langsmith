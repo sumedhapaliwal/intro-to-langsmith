{
 "cells": [
  {
   "cell_type": "markdown",
   "metadata": {},
   "source": [
    "# Connecting to the Prompt Hub"
   ]
  },
  {
   "cell_type": "markdown",
   "metadata": {},
   "source": [
    "We can connect our application to LangSmith's Prompt Hub, which will allow us to test and iterate on our prompts within LangSmith, and pull our improvements directly into our application."
   ]
  },
  {
   "cell_type": "markdown",
   "metadata": {},
   "source": [
    "### Setup"
   ]
  },
  {
   "cell_type": "code",
   "execution_count": 1,
   "metadata": {},
   "outputs": [],
   "source": [
    "import os\n",
    "os.environ[\"MISTRAL_API_KEY\"] = \"\"\n",
    "os.environ[\"LANGSMITH_API_KEY\"] = \"\"\n",
    "os.environ[\"LANGSMITH_TRACING\"] = \"true\"\n",
    "os.environ[\"LANGSMITH_PROJECT\"] = \"langsmith-academy-mistral\"  # If you don't set this, traces will go to the Default project"
   ]
  },
  {
   "cell_type": "code",
   "execution_count": 2,
   "metadata": {},
   "outputs": [
    {
     "data": {
      "text/plain": [
       "True"
      ]
     },
     "execution_count": 2,
     "metadata": {},
     "output_type": "execute_result"
    }
   ],
   "source": [
    "# Or you can use a .env file\n",
    "from dotenv import load_dotenv\n",
    "load_dotenv(dotenv_path=\"../../.env\", override=True)"
   ]
  },
  {
   "cell_type": "markdown",
   "metadata": {},
   "source": [
    "### Pull a prompt from Prompt Hub"
   ]
  },
  {
   "cell_type": "markdown",
   "metadata": {},
   "source": [
    "Pull in a prompt from Prompt Hub by pasting in the code snippet from the UI."
   ]
  },
  {
   "cell_type": "code",
   "execution_count": 3,
   "metadata": {},
   "outputs": [],
   "source": [
    "from langsmith import Client\n",
    "\n",
    "client = Client()\n",
    "prompt = client.pull_prompt(\"phd:19563583\", include_model=True)"
   ]
  },
  {
   "cell_type": "markdown",
   "metadata": {},
   "source": [
    "Let's see what we pulled - note that we did not get the model, so this is just a StructuredPrompt and not runnable."
   ]
  },
  {
   "cell_type": "code",
   "execution_count": 4,
   "metadata": {},
   "outputs": [
    {
     "data": {
      "text/plain": [
       "StructuredPrompt(input_variables=['question', 'subject'], input_types={}, partial_variables={}, metadata={'lc_hub_owner': '-', 'lc_hub_repo': 'phd', 'lc_hub_commit_hash': '195635838118806eb01fb908c89911fcbce554c27568c324f775d0eb3290eb5e'}, messages=[SystemMessagePromptTemplate(prompt=PromptTemplate(input_variables=['subject'], input_types={}, partial_variables={}, template='You have done your PhD in {subject}'), additional_kwargs={}), HumanMessagePromptTemplate(prompt=PromptTemplate(input_variables=['question', 'subject'], input_types={}, partial_variables={}, template='Answer this {question} under the context of your PhD in {subject}'), additional_kwargs={})], schema_={'title': 'extract_answer', 'description': 'Extract answer from the llm ersponse', 'type': 'object', 'properties': {'result': {'type': 'string', 'description': 'Is the submission correct, accurate, and factual?'}}, 'required': ['result'], 'strict': True, 'additionalProperties': False}, structured_output_kwargs={})\n",
       "| RunnableBinding(bound=ChatMistralAI(client=<httpx.Client object at 0x7fa1054d7cb0>, async_client=<httpx.AsyncClient object at 0x7fa1049a5160>, mistral_api_key=SecretStr('**********'), endpoint='https://api.mistral.ai/v1', model='mistral-large-latest', model_kwargs={}), kwargs={'tools': [{'type': 'function', 'function': {'name': 'extract_answer', 'description': 'Extract answer from the llm ersponse', 'parameters': {'type': 'object', 'properties': {'result': {'type': 'string', 'description': 'Is the submission correct, accurate, and factual?'}}, 'required': ['result'], 'strict': True, 'additionalProperties': False}}}], 'ls_structured_output_format': {'kwargs': {'method': 'function_calling'}, 'schema': {'title': 'extract_answer', 'description': 'Extract answer from the llm ersponse', 'type': 'object', 'properties': {'result': {'type': 'string', 'description': 'Is the submission correct, accurate, and factual?'}}, 'required': ['result'], 'strict': True, 'additionalProperties': False}}, 'tool_choice': 'any'}, config={}, config_factories=[])\n",
       "| JsonOutputKeyToolsParser(first_tool_only=True, key_name='extract_answer')"
      ]
     },
     "execution_count": 4,
     "metadata": {},
     "output_type": "execute_result"
    }
   ],
   "source": [
    "prompt"
   ]
  },
  {
   "cell_type": "markdown",
   "metadata": {},
   "source": [
    "Cool! Now let's hydrate our prompt by calling .invoke() with our inputs"
   ]
  },
  {
   "cell_type": "code",
   "execution_count": 5,
   "metadata": {},
   "outputs": [
    {
     "data": {
      "text/plain": [
       "{'result': \"The speed of light in a vacuum, often denoted as **c**, is a fundamental constant of nature and plays a central role in physics, particularly in the theory of relativity. \\n\\n- **Numerical Value**: The speed of light is approximately **299,792,458 meters per second (m/s)**. This value is exact because the meter is defined based on the speed of light (since 1983, the International System of Units (SI) defines the meter as the distance light travels in a vacuum in 1/299,792,458 of a second).\\n\\n- **Significance in Physics**: \\n  - In **classical electromagnetism**, the speed of light appears in Maxwell's equations, which describe how electric and magnetic fields propagate through space as electromagnetic waves.\\n  - In **Einstein's theory of special relativity**, the speed of light is the ultimate speed limit for any information or matter in the universe. It is invariant, meaning it is the same for all observers regardless of their relative motion.\\n  - In **general relativity**, the speed of light is a key component in understanding spacetime curvature and the behavior of light near massive objects like black holes.\\n  - In **quantum mechanics**, the speed of light is related to the energy-momentum relationship for massless particles like photons.\\n\\n- **Experimental Context**: During my PhD work in physics, the speed of light often appeared in theoretical models, simulations, and experimental setups, particularly in studies involving electromagnetism, optics, or relativistic effects. For example, in experiments involving lasers or particle accelerators, understanding the behavior of light and its speed is critical for interpreting results.\\n\\n- **Practical Implications**: The speed of light is not just a theoretical concept; it has practical applications in technology, such as in fiber optics for communication, GPS systems, and even in medical imaging techniques.\\n\\nIn summary, the speed of light is a cornerstone of modern physics, connecting many areas of study and serving as a bridge between theoretical and experimental work.\"}"
      ]
     },
     "execution_count": 5,
     "metadata": {},
     "output_type": "execute_result"
    }
   ],
   "source": [
    "hydrated_prompt = prompt.invoke({\"question\": \"What is the speed of light?\", \"subject\": \"Physics\"})\n",
    "hydrated_prompt"
   ]
  },
  {
   "cell_type": "markdown",
   "metadata": {},
   "source": [
    "And now let's pass those messages to Mistral AI and see what we get back!"
   ]
  },
  {
   "cell_type": "code",
   "execution_count": 7,
   "metadata": {},
   "outputs": [
    {
     "name": "stdout",
     "output_type": "stream",
     "text": [
      "Hydrated prompt type: <class 'dict'>\n",
      "Hydrated prompt content: {'result': \"The speed of light in a vacuum, often denoted as **c**, is a fundamental constant of nature and plays a central role in physics, particularly in the theory of relativity. \\n\\n- **Numerical Value**: The speed of light is approximately **299,792,458 meters per second (m/s)**. This value is exact because the meter is defined based on the speed of light (since 1983, the International System of Units (SI) defines the meter as the distance light travels in a vacuum in 1/299,792,458 of a second).\\n\\n- **Significance in Physics**: \\n  - In **classical electromagnetism**, the speed of light appears in Maxwell's equations, which describe how electric and magnetic fields propagate through space as electromagnetic waves.\\n  - In **Einstein's theory of special relativity**, the speed of light is the ultimate speed limit for any information or matter in the universe. It is invariant, meaning it is the same for all observers regardless of their relative motion.\\n  - In **general relativity**, the speed of light is a key component in understanding spacetime curvature and the behavior of light near massive objects like black holes.\\n  - In **quantum mechanics**, the speed of light is related to the energy-momentum relationship for massless particles like photons.\\n\\n- **Experimental Context**: During my PhD work in physics, the speed of light often appeared in theoretical models, simulations, and experimental setups, particularly in studies involving electromagnetism, optics, or relativistic effects. For example, in experiments involving lasers or particle accelerators, understanding the behavior of light and its speed is critical for interpreting results.\\n\\n- **Practical Implications**: The speed of light is not just a theoretical concept; it has practical applications in technology, such as in fiber optics for communication, GPS systems, and even in medical imaging techniques.\\n\\nIn summary, the speed of light is a cornerstone of modern physics, connecting many areas of study and serving as a bridge between theoretical and experimental work.\"}\n",
      "Final messages: [HumanMessage(content='{\\'result\\': \"The speed of light in a vacuum, often denoted as **c**, is a fundamental constant of nature and plays a central role in physics, particularly in the theory of relativity. \\\\n\\\\n- **Numerical Value**: The speed of light is approximately **299,792,458 meters per second (m/s)**. This value is exact because the meter is defined based on the speed of light (since 1983, the International System of Units (SI) defines the meter as the distance light travels in a vacuum in 1/299,792,458 of a second).\\\\n\\\\n- **Significance in Physics**: \\\\n  - In **classical electromagnetism**, the speed of light appears in Maxwell\\'s equations, which describe how electric and magnetic fields propagate through space as electromagnetic waves.\\\\n  - In **Einstein\\'s theory of special relativity**, the speed of light is the ultimate speed limit for any information or matter in the universe. It is invariant, meaning it is the same for all observers regardless of their relative motion.\\\\n  - In **general relativity**, the speed of light is a key component in understanding spacetime curvature and the behavior of light near massive objects like black holes.\\\\n  - In **quantum mechanics**, the speed of light is related to the energy-momentum relationship for massless particles like photons.\\\\n\\\\n- **Experimental Context**: During my PhD work in physics, the speed of light often appeared in theoretical models, simulations, and experimental setups, particularly in studies involving electromagnetism, optics, or relativistic effects. For example, in experiments involving lasers or particle accelerators, understanding the behavior of light and its speed is critical for interpreting results.\\\\n\\\\n- **Practical Implications**: The speed of light is not just a theoretical concept; it has practical applications in technology, such as in fiber optics for communication, GPS systems, and even in medical imaging techniques.\\\\n\\\\nIn summary, the speed of light is a cornerstone of modern physics, connecting many areas of study and serving as a bridge between theoretical and experimental work.\"}', additional_kwargs={}, response_metadata={})]\n",
      "Number of messages: 1\n",
      "Response: content='Here’s a concise yet comprehensive summary of the **speed of light (c)** based on your provided content, structured for clarity:\\n\\n---\\n\\n### **Speed of Light (c): Key Facts**\\n**Definition**: The speed at which light propagates in a vacuum, a **fundamental constant of nature** central to modern physics.\\n\\n#### **1. Numerical Value**\\n- **Exact value**: **299,792,458 meters per second (m/s)**.\\n  - *Why exact?* Since 1983, the **meter** is defined by the distance light travels in **1/299,792,458 of a second** (SI units).\\n\\n#### **2. Role in Physics**\\n- **Classical Electromagnetism**:\\n  - Appears in **Maxwell’s equations**, describing electromagnetic wave propagation (e.g., radio waves, visible light).\\n- **Special Relativity (Einstein, 1905)**:\\n  - **Universal speed limit**: No information/matter can exceed *c*.\\n  - **Invariant**: Same for all observers, regardless of motion (e.g., a moving spaceship measures *c* identically to a stationary one).\\n- **General Relativity**:\\n  - Governs how light bends near massive objects (e.g., **gravitational lensing** by black holes).\\n- **Quantum Mechanics**:\\n  - Links energy (*E*) and momentum (*p*) for massless particles (e.g., photons): *E = pc*.\\n\\n#### **3. Experimental & Practical Context**\\n- **Research Applications**:\\n  - Critical in **laser experiments**, **particle accelerators**, and **optics** (e.g., measuring time delays in photon travel).\\n  - Used in **simulations** of electromagnetic fields or relativistic phenomena.\\n- **Technology**:\\n  - **Fiber optics**: Enables high-speed internet via light pulses.\\n  - **GPS systems**: Accounts for relativistic time dilation (satellite clocks adjust for *c*’s invariance).\\n  - **Medical imaging**: Techniques like **PET scans** rely on photon detection.\\n\\n#### **4. Why It Matters**\\n- **Unifying Concept**: Bridges **theoretical physics** (relativity, quantum mechanics) with **applied science** (engineering, medicine).\\n- **Cosmic Scale**: Defines the **\"light-year\"** (distance light travels in 1 year) and sets limits on communication across the universe.\\n\\n---\\n### **Fun Fact**\\nIf you could travel at *c*, you’d circle Earth **7.5 times in one second**!\\n\\nWould you like a deeper dive into any specific aspect (e.g., relativity, experiments, or historical context)?' additional_kwargs={} response_metadata={'token_usage': {'prompt_tokens': 447, 'total_tokens': 1014, 'completion_tokens': 567}, 'model_name': 'mistral-large-latest', 'model': 'mistral-large-latest', 'finish_reason': 'stop'} id='run--53d95c1b-052d-4ed7-ba41-a41095c91fe9-0' usage_metadata={'input_tokens': 447, 'output_tokens': 567, 'total_tokens': 1014}\n",
      "Response: content='Here’s a concise yet comprehensive summary of the **speed of light (c)** based on your provided content, structured for clarity:\\n\\n---\\n\\n### **Speed of Light (c): Key Facts**\\n**Definition**: The speed at which light propagates in a vacuum, a **fundamental constant of nature** central to modern physics.\\n\\n#### **1. Numerical Value**\\n- **Exact value**: **299,792,458 meters per second (m/s)**.\\n  - *Why exact?* Since 1983, the **meter** is defined by the distance light travels in **1/299,792,458 of a second** (SI units).\\n\\n#### **2. Role in Physics**\\n- **Classical Electromagnetism**:\\n  - Appears in **Maxwell’s equations**, describing electromagnetic wave propagation (e.g., radio waves, visible light).\\n- **Special Relativity (Einstein, 1905)**:\\n  - **Universal speed limit**: No information/matter can exceed *c*.\\n  - **Invariant**: Same for all observers, regardless of motion (e.g., a moving spaceship measures *c* identically to a stationary one).\\n- **General Relativity**:\\n  - Governs how light bends near massive objects (e.g., **gravitational lensing** by black holes).\\n- **Quantum Mechanics**:\\n  - Links energy (*E*) and momentum (*p*) for massless particles (e.g., photons): *E = pc*.\\n\\n#### **3. Experimental & Practical Context**\\n- **Research Applications**:\\n  - Critical in **laser experiments**, **particle accelerators**, and **optics** (e.g., measuring time delays in photon travel).\\n  - Used in **simulations** of electromagnetic fields or relativistic phenomena.\\n- **Technology**:\\n  - **Fiber optics**: Enables high-speed internet via light pulses.\\n  - **GPS systems**: Accounts for relativistic time dilation (satellite clocks adjust for *c*’s invariance).\\n  - **Medical imaging**: Techniques like **PET scans** rely on photon detection.\\n\\n#### **4. Why It Matters**\\n- **Unifying Concept**: Bridges **theoretical physics** (relativity, quantum mechanics) with **applied science** (engineering, medicine).\\n- **Cosmic Scale**: Defines the **\"light-year\"** (distance light travels in 1 year) and sets limits on communication across the universe.\\n\\n---\\n### **Fun Fact**\\nIf you could travel at *c*, you’d circle Earth **7.5 times in one second**!\\n\\nWould you like a deeper dive into any specific aspect (e.g., relativity, experiments, or historical context)?' additional_kwargs={} response_metadata={'token_usage': {'prompt_tokens': 447, 'total_tokens': 1014, 'completion_tokens': 567}, 'model_name': 'mistral-large-latest', 'model': 'mistral-large-latest', 'finish_reason': 'stop'} id='run--53d95c1b-052d-4ed7-ba41-a41095c91fe9-0' usage_metadata={'input_tokens': 447, 'output_tokens': 567, 'total_tokens': 1014}\n"
     ]
    }
   ],
   "source": [
    "from langchain_mistralai import ChatMistralAI\n",
    "from langchain_core.messages import HumanMessage, SystemMessage, AIMessage\n",
    "\n",
    "mistral_client = ChatMistralAI(model=\"mistral-large-latest\")\n",
    "\n",
    "# Debug: Let's see what the hydrated_prompt actually contains\n",
    "print(\"Hydrated prompt type:\", type(hydrated_prompt))\n",
    "print(\"Hydrated prompt content:\", hydrated_prompt)\n",
    "\n",
    "# Convert the hydrated prompt to LangChain message format\n",
    "messages = []\n",
    "\n",
    "if isinstance(hydrated_prompt, dict):\n",
    "    if \"messages\" in hydrated_prompt:\n",
    "        # Format: {\"messages\": [...]}\n",
    "        for msg in hydrated_prompt[\"messages\"]:\n",
    "            if msg[\"role\"] == \"system\":\n",
    "                messages.append(SystemMessage(content=msg[\"content\"]))\n",
    "            elif msg[\"role\"] == \"user\":\n",
    "                messages.append(HumanMessage(content=msg[\"content\"]))\n",
    "            elif msg[\"role\"] == \"assistant\":\n",
    "                messages.append(AIMessage(content=msg[\"content\"]))\n",
    "    elif \"content\" in hydrated_prompt:\n",
    "        # Format: {\"content\": \"text\"}\n",
    "        messages.append(HumanMessage(content=hydrated_prompt[\"content\"]))\n",
    "    else:\n",
    "        # Try to extract any text content from the dict\n",
    "        content = str(hydrated_prompt)\n",
    "        messages.append(HumanMessage(content=content))\n",
    "elif isinstance(hydrated_prompt, str):\n",
    "    # Format: \"text\"\n",
    "    messages.append(HumanMessage(content=hydrated_prompt))\n",
    "else:\n",
    "    # Fallback: convert to string\n",
    "    messages.append(HumanMessage(content=str(hydrated_prompt)))\n",
    "\n",
    "print(\"Final messages:\", messages)\n",
    "print(\"Number of messages:\", len(messages))\n",
    "\n",
    "if messages:\n",
    "    response = mistral_client.invoke(messages)\n",
    "    print(\"Response:\", response)\n",
    "else:\n",
    "    print(\"No valid messages found to send to Mistral\")"
   ]
  },
  {
   "cell_type": "markdown",
   "metadata": {},
   "source": [
    "##### [Extra: LangChain Only] Pulling down the Model Configuration\n",
    "\n",
    "We can also pull down the saved model configuration as a LangChain RunnableBinding when we use `include_model=True`. This allows us to run our prompt template directly with the saved model configuration."
   ]
  },
  {
   "cell_type": "markdown",
   "metadata": {},
   "source": [
    "### Pull down a specific commit"
   ]
  },
  {
   "cell_type": "markdown",
   "metadata": {},
   "source": [
    "Pull down a specific commit from the Prompt Hub by pasting in the code snippet from the UI."
   ]
  },
  {
   "cell_type": "code",
   "execution_count": 9,
   "metadata": {},
   "outputs": [],
   "source": [
    "# Pull a specific commit of the prompt - replace with actual commit hash\n",
    "prompt = client.pull_prompt(\"phd:577bfacf\")  # Replace with actual commit hash"
   ]
  },
  {
   "cell_type": "markdown",
   "metadata": {},
   "source": [
    "Run this commit!"
   ]
  },
  {
   "cell_type": "code",
   "execution_count": 11,
   "metadata": {},
   "outputs": [
    {
     "name": "stdout",
     "output_type": "stream",
     "text": [
      "Response: content='Given my context as someone whose highest level of education is high school with a focus on **Physics**, here’s how I would answer your question:\\n\\n---\\n**The speed of light** is a fundamental constant in physics, denoted by the symbol **c**. Based on what I learned in high school physics:\\n\\n- The speed of light in a **vacuum** (like outer space) is approximately **299,792,458 meters per second** (or roughly **300,000 km/s**).\\n- This value is exact because the meter is *defined* based on the speed of light (since 1983, the meter is the distance light travels in 1/299,792,458 of a second).\\n- Light travels slower in other mediums (e.g., water, glass) due to interactions with atoms, but **c** always refers to its speed in a vacuum.\\n\\n**Why it matters in high school physics:**\\n- It’s central to Einstein’s theory of **special relativity** (though we might only touch on basics like time dilation or \\\\(E=mc^2\\\\)).\\n- It explains why nothing with mass can reach **c** (infinite energy would be required).\\n- It’s used in calculations involving electromagnetic waves (e.g., wavelength × frequency = **c**).\\n\\n**Fun fact:** If you could travel at the speed of light, you could circle the Earth **7.5 times in one second**!\\n\\n---\\n*Note:* While I can explain this at a high school level, deeper topics (like quantum field theory or general relativity) would require more advanced education. Would you like a simpler analogy or more details?' additional_kwargs={} response_metadata={'token_usage': {'prompt_tokens': 62, 'total_tokens': 413, 'completion_tokens': 351}, 'model_name': 'mistral-large-latest', 'model': 'mistral-large-latest', 'finish_reason': 'stop'} id='run--ad3d9256-e712-4169-97b9-4c3b4545aba5-0' usage_metadata={'input_tokens': 62, 'output_tokens': 351, 'total_tokens': 413}\n"
     ]
    }
   ],
   "source": [
    "from langchain_mistralai import ChatMistralAI\n",
    "from langchain_core.messages import HumanMessage, SystemMessage, AIMessage\n",
    "\n",
    "mistral_client = ChatMistralAI(model=\"mistral-large-latest\")\n",
    "\n",
    "hydrated_prompt = prompt.invoke({\"question\": \"What is the speed of light?\", \"education\": \"high school\", \"subject\": \"Physics\"})\n",
    "\n",
    "# Convert the hydrated prompt to LangChain message format\n",
    "messages = []\n",
    "\n",
    "if isinstance(hydrated_prompt, dict):\n",
    "    if \"messages\" in hydrated_prompt:\n",
    "        # Format: {\"messages\": [...]}\n",
    "        for msg in hydrated_prompt[\"messages\"]:\n",
    "            if msg[\"role\"] == \"system\":\n",
    "                messages.append(SystemMessage(content=msg[\"content\"]))\n",
    "            elif msg[\"role\"] == \"user\":\n",
    "                messages.append(HumanMessage(content=msg[\"content\"]))\n",
    "            elif msg[\"role\"] == \"assistant\":\n",
    "                messages.append(AIMessage(content=msg[\"content\"]))\n",
    "    elif \"content\" in hydrated_prompt:\n",
    "        # Format: {\"content\": \"text\"}\n",
    "        messages.append(HumanMessage(content=hydrated_prompt[\"content\"]))\n",
    "    else:\n",
    "        # Try to extract any text content from the dict\n",
    "        content = str(hydrated_prompt)\n",
    "        messages.append(HumanMessage(content=content))\n",
    "elif isinstance(hydrated_prompt, str):\n",
    "    # Format: \"text\"\n",
    "    messages.append(HumanMessage(content=hydrated_prompt))\n",
    "else:\n",
    "    # Fallback: convert to string\n",
    "    messages.append(HumanMessage(content=str(hydrated_prompt)))\n",
    "\n",
    "if messages:\n",
    "    response = mistral_client.invoke(messages)\n",
    "    print(\"Response:\", response)\n",
    "else:\n",
    "    print(\"No valid messages found to send to Mistral\")"
   ]
  },
  {
   "cell_type": "markdown",
   "metadata": {},
   "source": [
    "### Uploading Prompts"
   ]
  },
  {
   "cell_type": "markdown",
   "metadata": {},
   "source": [
    "You can also easily update your prompts in the hub programmatically.\n",
    "\n"
   ]
  },
  {
   "cell_type": "code",
   "execution_count": 14,
   "metadata": {},
   "outputs": [
    {
     "data": {
      "text/plain": [
       "'https://smith.langchain.com/prompts/phy-rag-prompt/7077aa69?organizationId=bd531ccf-4286-4467-99ba-7eab707122af'"
      ]
     },
     "execution_count": 14,
     "metadata": {},
     "output_type": "execute_result"
    }
   ],
   "source": [
    "from langchain.prompts.chat import ChatPromptTemplate\n",
    "from langsmith import Client\n",
    "\n",
    "client=Client()\n",
    "\n",
    "phy_prompt = \"\"\"You are a PhD level physicist who has specialized in string theory.\n",
    "Any questions I ask you have to prove that you are a PhD, give detailed and technical answers.\n",
    "\n",
    "Question: {question}\n",
    "Topic: {topic}\n",
    "Answer:\"\"\"\n",
    "\n",
    "phy_template = ChatPromptTemplate.from_template(phy_prompt)\n",
    "client.push_prompt(\"phy-rag-prompt\", object=phy_template)"
   ]
  },
  {
   "cell_type": "markdown",
   "metadata": {},
   "source": [
    "You can also push a prompt as a RunnableSequence of a prompt and a model. This is useful for storing the model configuration you want to use with this prompt. The provider must be supported by the LangSmith playground."
   ]
  },
  {
   "cell_type": "code",
   "execution_count": 15,
   "metadata": {},
   "outputs": [
    {
     "data": {
      "text/plain": [
       "'https://smith.langchain.com/prompts/phy-runnable-sequence/a91ac07f?organizationId=bd531ccf-4286-4467-99ba-7eab707122af'"
      ]
     },
     "execution_count": 15,
     "metadata": {},
     "output_type": "execute_result"
    }
   ],
   "source": [
    "from langchain.prompts.chat import ChatPromptTemplate\n",
    "from langsmith import Client\n",
    "from langchain_mistralai import ChatMistralAI\n",
    "\n",
    "client=Client()\n",
    "model = ChatMistralAI(model=\"mistral-large-latest\")\n",
    "\n",
    "phy_prompt = \"\"\"You are a PhD level physicist who has specialized in string theory.\n",
    "Any questions I ask you have to prove that you are a PhD, give detailed and technical answers.\n",
    "\n",
    "Question: {question}\n",
    "Topic: {topic}\n",
    "Answer:\"\"\"\n",
    "\n",
    "phy_template = ChatPromptTemplate.from_template(phy_prompt)\n",
    "chain = phy_template | model\n",
    "client.push_prompt(\"phy-runnable-sequence\", object=chain)"
   ]
  }
 ],
 "metadata": {
  "kernelspec": {
   "display_name": "intro-to-langsmith (3.13.7)",
   "language": "python",
   "name": "python3"
  },
  "language_info": {
   "codemirror_mode": {
    "name": "ipython",
    "version": 3
   },
   "file_extension": ".py",
   "mimetype": "text/x-python",
   "name": "python",
   "nbconvert_exporter": "python",
   "pygments_lexer": "ipython3",
   "version": "3.13.7"
  }
 },
 "nbformat": 4,
 "nbformat_minor": 4
}
